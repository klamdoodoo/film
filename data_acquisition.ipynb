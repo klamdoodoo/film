{
 "cells": [
  {
   "attachments": {},
   "cell_type": "markdown",
   "id": "b5c35991",
   "metadata": {},
   "source": [
    "# Denison DA210/CS181 Project Deliverable #3: Data Storage and Analysis\n",
    "\n",
    "### Authors: Ashwin Krishnamurthy, Lam Do\n",
    "\n",
    "Central Question: What countries have the best public and professional film success rates?\n",
    "\n",
    "We will answer this question by analyzing three tables with information about countries (except from the US), the number of films the country produced, the number of box office tickets it sold, and the number of awards it received. Additionally, after some review, we decided to add in the data sets indicators and countries from the textbook `Introduction to Data Systems` by Dr. Bressoud and Dr. White.\n",
    "\n",
    "---"
   ]
  },
  {
   "cell_type": "markdown",
   "id": "e15d7431",
   "metadata": {},
   "source": []
  },
  {
   "cell_type": "code",
   "execution_count": 232,
   "id": "a7f9ec96",
   "metadata": {},
   "outputs": [],
   "source": [
    "import os\n",
    "import os.path\n",
    "import pandas as pd\n",
    "from lxml import etree\n",
    "import json\n",
    "import sqlalchemy as sa\n",
    "datadir = \"data\""
   ]
  },
  {
   "attachments": {},
   "cell_type": "markdown",
   "id": "61d8bc66",
   "metadata": {},
   "source": [
    "---\n",
    "# Part A: Overview of the datasets\n",
    "### I. Largest industries by number of film productions\n",
    "\n",
    "Citation: https://en.wikipedia.org/api/rest_v1/page/html/Film_industry\n",
    "\n",
    "There are 4 columns and 15 rows in this data set\n",
    "\n",
    "Columns: Rank (int), Country (string), Films (int) and Year (int)\n",
    "\n",
    "### II. Largest markets by number of box office admissions \n",
    "\n",
    "Citation: https://en.wikipedia.org/api/rest_v1/page/html/Film_industry\n",
    "\n",
    "There are 4 columns and 10 rows in this data set\n",
    "\n",
    "Columns: Rank (int), Country (string), Number of Admissions (int) and Year (int)\n",
    "\n",
    "### III. Academy Awards for Best International Feature Film tally by country\n",
    "\n",
    "Citation: https://en.wikipedia.org/api/rest_v1/page/html/List_of_countries_by_number_of_Academy_Awards_for_Best_International_Feature_Film\n",
    "\n",
    "There are 6 columns and approximately 100 rows in this data set\n",
    "\n",
    "Columns: Submitting country (string), Number of winning films (int), Number of nominated films (int), Number of submitted films (int), First submitted (int), Last submitted (int)\n",
    "\n",
    "### IV. Additional information\n",
    "\n",
    "Understanding the public and professional success rate of films is important for the movie industry for several reasons. The number of film productions indicate the efforts of the filmmaking community in the country to better their industry. The number of box office admissions provide insights into film's financial viability. The number of Academy Awards for Best International Feature Film measures the critical reception of the film and its impact on the industry. \n",
    "\n",
    "These data sets are eligible for scraping because they are on Wikipedia. The Wikipedia Terms of Use states that the Wikimedia Foundation is dedicated to host the full content of wiki-based projects for the public free of charge.\n",
    "\n",
    "After submitting the 2nd deliverable, we decide to bring in indicators and countries data set from the textbook `Introduction to Data Systems` by Dr. Bressoud and Dr. White. We have yet to find an official document that legalizes the use of data from the textbook, but we believe that these data sets are eligible for educational usage."
   ]
  },
  {
   "cell_type": "markdown",
   "id": "d71a1990",
   "metadata": {},
   "source": [
    "---\n",
    "# Part B: Parsing data"
   ]
  },
  {
   "attachments": {},
   "cell_type": "markdown",
   "id": "743d06e6",
   "metadata": {},
   "source": [
    "### I. Largest industries by number of film productions\n",
    "\n",
    "The process to scrape this dataset is quite straightforward, in which we first obtain the HTML tree and its root, find the table that we want, getting the column names and values of each columns. There was not much difficulty in this practice. \n",
    "\n",
    "The only small problem we encountered was the commas in the `films_values`, which we removed using .replace()"
   ]
  },
  {
   "cell_type": "code",
   "execution_count": 233,
   "id": "83b779fe",
   "metadata": {},
   "outputs": [],
   "source": [
    "#getting the tree and the root of the FilmIndustry.html file\n",
    "path = \"data/FilmIndustry.html\"\n",
    "htmlparser = etree.HTMLParser()\n",
    "tree = etree.parse(path, parser = htmlparser)\n",
    "filmroot = tree.getroot()"
   ]
  },
  {
   "cell_type": "code",
   "execution_count": 234,
   "id": "0f18da85",
   "metadata": {},
   "outputs": [
    {
     "data": {
      "text/plain": [
       "[<Element table at 0x7fd2a82eb040>,\n",
       " <Element table at 0x7fd2a8615e80>,\n",
       " <Element table at 0x7fd2a872b380>]"
      ]
     },
     "execution_count": 234,
     "metadata": {},
     "output_type": "execute_result"
    }
   ],
   "source": [
    "#find all table nodes\n",
    "table_nodes = filmroot.xpath(\"//table[@class='wikitable sortable']\")\n",
    "table_nodes"
   ]
  },
  {
   "cell_type": "code",
   "execution_count": 235,
   "id": "a519fd14",
   "metadata": {},
   "outputs": [
    {
     "data": {
      "text/plain": [
       "['Rank', 'Country', 'Films', 'Year']"
      ]
     },
     "execution_count": 235,
     "metadata": {},
     "output_type": "execute_result"
    }
   ],
   "source": [
    "#choose the first table node\n",
    "table_node = table_nodes[0]\n",
    "\n",
    "#find all column names\n",
    "column_names = table_node.xpath(\".//th/text()\")\n",
    "column_names"
   ]
  },
  {
   "cell_type": "code",
   "execution_count": 236,
   "id": "017334cc",
   "metadata": {},
   "outputs": [
    {
     "data": {
      "text/plain": [
       "[1, 2, 3, 4, 5, 6, 7, 8, 9, 10, 11, 12, 13, 14, 15]"
      ]
     },
     "execution_count": 236,
     "metadata": {},
     "output_type": "execute_result"
    }
   ],
   "source": [
    "#find all values of the rank column\n",
    "rank_values = table_node.xpath(\".//td[position()=1]/text()\")\n",
    "rank_values\n",
    "\n",
    "#convert values of strings to integers\n",
    "rank_values = [int(v) for v in rank_values]\n",
    "rank_values"
   ]
  },
  {
   "cell_type": "code",
   "execution_count": 237,
   "id": "7a23c53a",
   "metadata": {},
   "outputs": [
    {
     "data": {
      "text/plain": [
       "['India',\n",
       " 'Nigeria',\n",
       " 'China',\n",
       " 'Japan',\n",
       " 'United States',\n",
       " 'South Korea',\n",
       " 'France',\n",
       " 'United Kingdom',\n",
       " 'Spain',\n",
       " 'Germany',\n",
       " 'Argentina',\n",
       " 'Mexico',\n",
       " 'Italy',\n",
       " 'Brazil',\n",
       " 'Turkey']"
      ]
     },
     "execution_count": 237,
     "metadata": {},
     "output_type": "execute_result"
    }
   ],
   "source": [
    "#find all values of the country column\n",
    "country_values = table_node.xpath(\".//td[position()=2]/a/text()\")\n",
    "country_values"
   ]
  },
  {
   "cell_type": "code",
   "execution_count": 238,
   "id": "51df1825",
   "metadata": {},
   "outputs": [
    {
     "data": {
      "text/plain": [
       "[2446, 1599, 874, 689, 660, 339, 300, 285, 241, 233, 220, 176, 173, 160, 148]"
      ]
     },
     "execution_count": 238,
     "metadata": {},
     "output_type": "execute_result"
    }
   ],
   "source": [
    "#find all values of the film column\n",
    "films_values = table_node.xpath(\".//td[position()=3]/text()\")\n",
    "\n",
    "#removing the commas and convert strings to integers\n",
    "films_values[0] = films_values[0].replace(\",\", \"\")\n",
    "films_values[1] = films_values[1].replace(\",\", \"\")\n",
    "films_values = [int(v) for v in films_values]\n",
    "films_values"
   ]
  },
  {
   "cell_type": "code",
   "execution_count": 239,
   "id": "b133b9ff",
   "metadata": {},
   "outputs": [
    {
     "data": {
      "text/plain": [
       "[2019,\n",
       " 2019,\n",
       " 2017,\n",
       " 2019,\n",
       " 2017,\n",
       " 2016,\n",
       " 2017,\n",
       " 2017,\n",
       " 2017,\n",
       " 2017,\n",
       " 2015,\n",
       " 2017,\n",
       " 2017,\n",
       " 2017,\n",
       " 2017]"
      ]
     },
     "execution_count": 239,
     "metadata": {},
     "output_type": "execute_result"
    }
   ],
   "source": [
    "#find all values of the year column\n",
    "year_values = table_node.xpath(\".//td[position()=4]/text()\")\n",
    "\n",
    "#convert strings to integers\n",
    "year_values = [int(v) for v in year_values]\n",
    "year_values"
   ]
  },
  {
   "cell_type": "code",
   "execution_count": 240,
   "id": "2e20af2b",
   "metadata": {
    "scrolled": true
   },
   "outputs": [
    {
     "data": {
      "text/html": [
       "<div>\n",
       "<style scoped>\n",
       "    .dataframe tbody tr th:only-of-type {\n",
       "        vertical-align: middle;\n",
       "    }\n",
       "\n",
       "    .dataframe tbody tr th {\n",
       "        vertical-align: top;\n",
       "    }\n",
       "\n",
       "    .dataframe thead th {\n",
       "        text-align: right;\n",
       "    }\n",
       "</style>\n",
       "<table border=\"1\" class=\"dataframe\">\n",
       "  <thead>\n",
       "    <tr style=\"text-align: right;\">\n",
       "      <th></th>\n",
       "      <th>Rank</th>\n",
       "      <th>Country</th>\n",
       "      <th>Films</th>\n",
       "      <th>Year</th>\n",
       "    </tr>\n",
       "  </thead>\n",
       "  <tbody>\n",
       "    <tr>\n",
       "      <th>0</th>\n",
       "      <td>1</td>\n",
       "      <td>India</td>\n",
       "      <td>2446</td>\n",
       "      <td>2019</td>\n",
       "    </tr>\n",
       "    <tr>\n",
       "      <th>1</th>\n",
       "      <td>2</td>\n",
       "      <td>Nigeria</td>\n",
       "      <td>1599</td>\n",
       "      <td>2019</td>\n",
       "    </tr>\n",
       "    <tr>\n",
       "      <th>2</th>\n",
       "      <td>3</td>\n",
       "      <td>China</td>\n",
       "      <td>874</td>\n",
       "      <td>2017</td>\n",
       "    </tr>\n",
       "    <tr>\n",
       "      <th>3</th>\n",
       "      <td>4</td>\n",
       "      <td>Japan</td>\n",
       "      <td>689</td>\n",
       "      <td>2019</td>\n",
       "    </tr>\n",
       "    <tr>\n",
       "      <th>4</th>\n",
       "      <td>5</td>\n",
       "      <td>United States</td>\n",
       "      <td>660</td>\n",
       "      <td>2017</td>\n",
       "    </tr>\n",
       "    <tr>\n",
       "      <th>5</th>\n",
       "      <td>6</td>\n",
       "      <td>South Korea</td>\n",
       "      <td>339</td>\n",
       "      <td>2016</td>\n",
       "    </tr>\n",
       "    <tr>\n",
       "      <th>6</th>\n",
       "      <td>7</td>\n",
       "      <td>France</td>\n",
       "      <td>300</td>\n",
       "      <td>2017</td>\n",
       "    </tr>\n",
       "    <tr>\n",
       "      <th>7</th>\n",
       "      <td>8</td>\n",
       "      <td>United Kingdom</td>\n",
       "      <td>285</td>\n",
       "      <td>2017</td>\n",
       "    </tr>\n",
       "    <tr>\n",
       "      <th>8</th>\n",
       "      <td>9</td>\n",
       "      <td>Spain</td>\n",
       "      <td>241</td>\n",
       "      <td>2017</td>\n",
       "    </tr>\n",
       "    <tr>\n",
       "      <th>9</th>\n",
       "      <td>10</td>\n",
       "      <td>Germany</td>\n",
       "      <td>233</td>\n",
       "      <td>2017</td>\n",
       "    </tr>\n",
       "    <tr>\n",
       "      <th>10</th>\n",
       "      <td>11</td>\n",
       "      <td>Argentina</td>\n",
       "      <td>220</td>\n",
       "      <td>2015</td>\n",
       "    </tr>\n",
       "    <tr>\n",
       "      <th>11</th>\n",
       "      <td>12</td>\n",
       "      <td>Mexico</td>\n",
       "      <td>176</td>\n",
       "      <td>2017</td>\n",
       "    </tr>\n",
       "    <tr>\n",
       "      <th>12</th>\n",
       "      <td>13</td>\n",
       "      <td>Italy</td>\n",
       "      <td>173</td>\n",
       "      <td>2017</td>\n",
       "    </tr>\n",
       "    <tr>\n",
       "      <th>13</th>\n",
       "      <td>14</td>\n",
       "      <td>Brazil</td>\n",
       "      <td>160</td>\n",
       "      <td>2017</td>\n",
       "    </tr>\n",
       "    <tr>\n",
       "      <th>14</th>\n",
       "      <td>15</td>\n",
       "      <td>Turkey</td>\n",
       "      <td>148</td>\n",
       "      <td>2017</td>\n",
       "    </tr>\n",
       "  </tbody>\n",
       "</table>\n",
       "</div>"
      ],
      "text/plain": [
       "    Rank         Country  Films  Year\n",
       "0      1           India   2446  2019\n",
       "1      2         Nigeria   1599  2019\n",
       "2      3           China    874  2017\n",
       "3      4           Japan    689  2019\n",
       "4      5   United States    660  2017\n",
       "5      6     South Korea    339  2016\n",
       "6      7          France    300  2017\n",
       "7      8  United Kingdom    285  2017\n",
       "8      9           Spain    241  2017\n",
       "9     10         Germany    233  2017\n",
       "10    11       Argentina    220  2015\n",
       "11    12          Mexico    176  2017\n",
       "12    13           Italy    173  2017\n",
       "13    14          Brazil    160  2017\n",
       "14    15          Turkey    148  2017"
      ]
     },
     "execution_count": 240,
     "metadata": {},
     "output_type": "execute_result"
    }
   ],
   "source": [
    "#putting the column names as keys and values in the columns as values, convert the DoL to a DataFrame\n",
    "df1 = pd.DataFrame({column_names[0]: rank_values, column_names[1]: country_values, column_names[2]: films_values, column_names[3]: year_values})\n",
    "df1"
   ]
  },
  {
   "attachments": {},
   "cell_type": "markdown",
   "id": "df21db03",
   "metadata": {},
   "source": [
    "There are 4 columns and 15 rows in this data set. We plan to use the columns `Country` and `Films`."
   ]
  },
  {
   "attachments": {},
   "cell_type": "markdown",
   "id": "f7cd81bb",
   "metadata": {},
   "source": [
    "### II. Largest industries by number of box office admissions\n",
    "\n",
    "The process to scrape this data set was entirely similar to that of the last data set, with identical problems."
   ]
  },
  {
   "cell_type": "code",
   "execution_count": 241,
   "id": "4f504424",
   "metadata": {},
   "outputs": [
    {
     "data": {
      "text/plain": [
       "[<Element table at 0x7fd2a82eb040>,\n",
       " <Element table at 0x7fd2a8615e80>,\n",
       " <Element table at 0x7fd2a872b380>]"
      ]
     },
     "execution_count": 241,
     "metadata": {},
     "output_type": "execute_result"
    }
   ],
   "source": [
    "#find all table nodes\n",
    "table_nodes = filmroot.xpath(\"//table[@class='wikitable sortable']\")\n",
    "table_nodes"
   ]
  },
  {
   "cell_type": "code",
   "execution_count": 242,
   "id": "a8abc628",
   "metadata": {},
   "outputs": [
    {
     "data": {
      "text/plain": [
       "['Rank', 'Country', 'Number of admissions', '(millions of tickets)', 'Year']"
      ]
     },
     "execution_count": 242,
     "metadata": {},
     "output_type": "execute_result"
    }
   ],
   "source": [
    "#choose the third table node\n",
    "table_node = table_nodes[2]\n",
    "\n",
    "#find all column names\n",
    "column_names = table_node.xpath(\".//th/text()\")\n",
    "column_names"
   ]
  },
  {
   "cell_type": "code",
   "execution_count": 243,
   "id": "3398188a",
   "metadata": {},
   "outputs": [
    {
     "data": {
      "text/plain": [
       "['Rank', 'Country', 'Number of admissions', 'Year']"
      ]
     },
     "execution_count": 243,
     "metadata": {},
     "output_type": "execute_result"
    }
   ],
   "source": [
    "#remove '(millions of tickets)' because it is not a column\n",
    "if len(column_names) != 4:\n",
    "    column_names.remove(\"(millions of tickets)\")\n",
    "column_names"
   ]
  },
  {
   "cell_type": "code",
   "execution_count": 244,
   "id": "2ac04b95",
   "metadata": {},
   "outputs": [
    {
     "data": {
      "text/plain": [
       "[1, 2, 3, 4, 5, 6, 7, 8, 9, 10]"
      ]
     },
     "execution_count": 244,
     "metadata": {},
     "output_type": "execute_result"
    }
   ],
   "source": [
    "#find all values of the rank column\n",
    "rank_values = table_node.xpath(\".//td[position()=1]/text()\")\n",
    "\n",
    "#convert strings to integers\n",
    "rank_values = [int(rank) for rank in rank_values]\n",
    "rank_values"
   ]
  },
  {
   "cell_type": "code",
   "execution_count": 245,
   "id": "c4011b39",
   "metadata": {},
   "outputs": [
    {
     "data": {
      "text/plain": [
       "['China',\n",
       " 'India',\n",
       " 'United States',\n",
       " 'Mexico',\n",
       " 'South Korea',\n",
       " 'Russia',\n",
       " 'France',\n",
       " 'Japan',\n",
       " 'Brazil',\n",
       " 'United Kingdom']"
      ]
     },
     "execution_count": 245,
     "metadata": {},
     "output_type": "execute_result"
    }
   ],
   "source": [
    "#find all values of the country column\n",
    "country_values = table_node.xpath(\".//td[position()=2]/a/@title\")\n",
    "country_values"
   ]
  },
  {
   "cell_type": "code",
   "execution_count": 246,
   "id": "ba87ae11",
   "metadata": {},
   "outputs": [
    {
     "data": {
      "text/plain": [
       "[1650, 1514, 1170, 352, 239, 209, 205, 194, 177, 175]"
      ]
     },
     "execution_count": 246,
     "metadata": {},
     "output_type": "execute_result"
    }
   ],
   "source": [
    "#find all values of the Number of Admissions column\n",
    "num_admissions_list = table_node.xpath(\".//td[position()=3]/text()\")\n",
    "\n",
    "#convert strings to integers\n",
    "num_admissions_values = [int(admission.replace(\",\",\"\")) for admission in num_admissions_list]\n",
    "num_admissions_values"
   ]
  },
  {
   "cell_type": "code",
   "execution_count": 247,
   "id": "d1abdd52",
   "metadata": {},
   "outputs": [
    {
     "data": {
      "text/plain": [
       "[2019, 2019, 2019, 2019, 2019, 2019, 2019, 2019, 2019, 2019]"
      ]
     },
     "execution_count": 247,
     "metadata": {},
     "output_type": "execute_result"
    }
   ],
   "source": [
    "#find all values of the year column\n",
    "year_list = table_node.xpath(\".//td[position()=4]/text()\")\n",
    "\n",
    "#convert strings to integers\n",
    "year_values = [int(year) for year in year_list]\n",
    "year_values"
   ]
  },
  {
   "cell_type": "code",
   "execution_count": 248,
   "id": "c4a1d27b",
   "metadata": {},
   "outputs": [
    {
     "data": {
      "text/html": [
       "<div>\n",
       "<style scoped>\n",
       "    .dataframe tbody tr th:only-of-type {\n",
       "        vertical-align: middle;\n",
       "    }\n",
       "\n",
       "    .dataframe tbody tr th {\n",
       "        vertical-align: top;\n",
       "    }\n",
       "\n",
       "    .dataframe thead th {\n",
       "        text-align: right;\n",
       "    }\n",
       "</style>\n",
       "<table border=\"1\" class=\"dataframe\">\n",
       "  <thead>\n",
       "    <tr style=\"text-align: right;\">\n",
       "      <th></th>\n",
       "      <th>Rank</th>\n",
       "      <th>Country</th>\n",
       "      <th>Number of admissions</th>\n",
       "      <th>Year</th>\n",
       "    </tr>\n",
       "  </thead>\n",
       "  <tbody>\n",
       "    <tr>\n",
       "      <th>0</th>\n",
       "      <td>1</td>\n",
       "      <td>China</td>\n",
       "      <td>1650</td>\n",
       "      <td>2019</td>\n",
       "    </tr>\n",
       "    <tr>\n",
       "      <th>1</th>\n",
       "      <td>2</td>\n",
       "      <td>India</td>\n",
       "      <td>1514</td>\n",
       "      <td>2019</td>\n",
       "    </tr>\n",
       "    <tr>\n",
       "      <th>2</th>\n",
       "      <td>3</td>\n",
       "      <td>United States</td>\n",
       "      <td>1170</td>\n",
       "      <td>2019</td>\n",
       "    </tr>\n",
       "    <tr>\n",
       "      <th>3</th>\n",
       "      <td>4</td>\n",
       "      <td>Mexico</td>\n",
       "      <td>352</td>\n",
       "      <td>2019</td>\n",
       "    </tr>\n",
       "    <tr>\n",
       "      <th>4</th>\n",
       "      <td>5</td>\n",
       "      <td>South Korea</td>\n",
       "      <td>239</td>\n",
       "      <td>2019</td>\n",
       "    </tr>\n",
       "    <tr>\n",
       "      <th>5</th>\n",
       "      <td>6</td>\n",
       "      <td>Russia</td>\n",
       "      <td>209</td>\n",
       "      <td>2019</td>\n",
       "    </tr>\n",
       "    <tr>\n",
       "      <th>6</th>\n",
       "      <td>7</td>\n",
       "      <td>France</td>\n",
       "      <td>205</td>\n",
       "      <td>2019</td>\n",
       "    </tr>\n",
       "    <tr>\n",
       "      <th>7</th>\n",
       "      <td>8</td>\n",
       "      <td>Japan</td>\n",
       "      <td>194</td>\n",
       "      <td>2019</td>\n",
       "    </tr>\n",
       "    <tr>\n",
       "      <th>8</th>\n",
       "      <td>9</td>\n",
       "      <td>Brazil</td>\n",
       "      <td>177</td>\n",
       "      <td>2019</td>\n",
       "    </tr>\n",
       "    <tr>\n",
       "      <th>9</th>\n",
       "      <td>10</td>\n",
       "      <td>United Kingdom</td>\n",
       "      <td>175</td>\n",
       "      <td>2019</td>\n",
       "    </tr>\n",
       "  </tbody>\n",
       "</table>\n",
       "</div>"
      ],
      "text/plain": [
       "   Rank         Country  Number of admissions  Year\n",
       "0     1           China                  1650  2019\n",
       "1     2           India                  1514  2019\n",
       "2     3   United States                  1170  2019\n",
       "3     4          Mexico                   352  2019\n",
       "4     5     South Korea                   239  2019\n",
       "5     6          Russia                   209  2019\n",
       "6     7          France                   205  2019\n",
       "7     8           Japan                   194  2019\n",
       "8     9          Brazil                   177  2019\n",
       "9    10  United Kingdom                   175  2019"
      ]
     },
     "execution_count": 248,
     "metadata": {},
     "output_type": "execute_result"
    }
   ],
   "source": [
    "#construct the DoL\n",
    "DoL = {column_names[0]: rank_values, column_names[1]: country_values, \n",
    "                  column_names[2]: num_admissions_values, column_names[3]: year_values}\n",
    "\n",
    "#build a DataFrame based on the DoL\n",
    "df2 = pd.DataFrame(DoL)\n",
    "df2"
   ]
  },
  {
   "attachments": {},
   "cell_type": "markdown",
   "id": "cd0405e8",
   "metadata": {},
   "source": [
    "There are 4 columns and 10 rows in this data set. We plan to use the column `Country` and `Number of Admissions`."
   ]
  },
  {
   "attachments": {},
   "cell_type": "markdown",
   "id": "0ae0c365",
   "metadata": {},
   "source": [
    "### III. Academy Awards for Best International Feature Film tally by country\n",
    "\n",
    "The process to scrape this data set was rather straightforward as well. The only problem we had was that the column names were a little messed up."
   ]
  },
  {
   "cell_type": "code",
   "execution_count": 249,
   "id": "00cc5f13",
   "metadata": {},
   "outputs": [],
   "source": [
    "#getting the tree and root\n",
    "path = \"data/CountryOscarWinners.html\"\n",
    "htmlparser = etree.HTMLParser()\n",
    "tree = etree.parse(path, parser = htmlparser)\n",
    "oscarroot = tree.getroot()"
   ]
  },
  {
   "cell_type": "code",
   "execution_count": 250,
   "id": "a40949fd",
   "metadata": {},
   "outputs": [
    {
     "data": {
      "text/plain": [
       "[<Element table at 0x7fd2b8c7a740>]"
      ]
     },
     "execution_count": 250,
     "metadata": {},
     "output_type": "execute_result"
    }
   ],
   "source": [
    "#getting all table nodes\n",
    "table_nodes = oscarroot.xpath(\"//table[@class='wikitable sortable']\")\n",
    "table_nodes"
   ]
  },
  {
   "cell_type": "code",
   "execution_count": 251,
   "id": "cdfeb7bb",
   "metadata": {},
   "outputs": [
    {
     "data": {
      "text/plain": [
       "['Submitting country',\n",
       " 'Number of',\n",
       " 'winning films',\n",
       " 'Number of',\n",
       " 'nominated films',\n",
       " 'Number of',\n",
       " 'submitted films',\n",
       " 'First ',\n",
       " 'submitted',\n",
       " 'Last ',\n",
       " 'submitted']"
      ]
     },
     "execution_count": 251,
     "metadata": {},
     "output_type": "execute_result"
    }
   ],
   "source": [
    "#get the table node from the list\n",
    "table_node = table_nodes[0]\n",
    "# there was a \"br\" in the column names that put text on the next line so it messed up the column names\n",
    "column_names = table_node.xpath(\".//th/text()\")\n",
    "column_names"
   ]
  },
  {
   "cell_type": "code",
   "execution_count": 252,
   "id": "1fb882b4",
   "metadata": {},
   "outputs": [
    {
     "data": {
      "text/plain": [
       "['Italy', 'France', 'Japan', 'Spain', 'Denmark']"
      ]
     },
     "execution_count": 252,
     "metadata": {},
     "output_type": "execute_result"
    }
   ],
   "source": [
    "#get the values of the country column\n",
    "country_values = table_node.xpath(\".//td[position()=1]/a/text()\")\n",
    "country_values[:5]"
   ]
  },
  {
   "cell_type": "code",
   "execution_count": 253,
   "id": "09d59007",
   "metadata": {},
   "outputs": [
    {
     "data": {
      "text/plain": [
       "[14, 12, 5, 4, 4]"
      ]
     },
     "execution_count": 253,
     "metadata": {},
     "output_type": "execute_result"
    }
   ],
   "source": [
    "#get the values of winning column\n",
    "winning_values = table_node.xpath(\".//td[position()=2]/span[position()=3]/text()\")\n",
    "\n",
    "#convert to integers\n",
    "winning_values = [int(v) for v in winning_values]\n",
    "winning_values[:5]   "
   ]
  },
  {
   "cell_type": "code",
   "execution_count": 254,
   "id": "820be608",
   "metadata": {},
   "outputs": [
    {
     "data": {
      "text/plain": [
       "[32, 41, 17, 20, 14]"
      ]
     },
     "execution_count": 254,
     "metadata": {},
     "output_type": "execute_result"
    }
   ],
   "source": [
    "#get the values for nominated column\n",
    "nominated_values = table_node.xpath(\".//td[position()=3]//span[position()=3]/text()\")\n",
    "\n",
    "#convert to integers\n",
    "nominated_values = [int(v) for v in nominated_values]\n",
    "nominated_values[:5]"
   ]
  },
  {
   "cell_type": "code",
   "execution_count": 255,
   "id": "993484f4",
   "metadata": {},
   "outputs": [
    {
     "data": {
      "text/plain": [
       "[69, 70, 69, 65, 60]"
      ]
     },
     "execution_count": 255,
     "metadata": {},
     "output_type": "execute_result"
    }
   ],
   "source": [
    "#get the values for submitted column\n",
    "submitted_values = table_node.xpath(\".//td[position()=4]/span[position()=3]/text()\")\n",
    "\n",
    "#convert to integers\n",
    "submitted_values = [int(v) for v in submitted_values]\n",
    "submitted_values[:5]"
   ]
  },
  {
   "cell_type": "code",
   "execution_count": 256,
   "id": "975622d6",
   "metadata": {},
   "outputs": [
    {
     "data": {
      "text/plain": [
       "[1947, 1948, 1951, 1956, 1956]"
      ]
     },
     "execution_count": 256,
     "metadata": {},
     "output_type": "execute_result"
    }
   ],
   "source": [
    "#get the value for first column\n",
    "first_values = table_node.xpath(\".//td[position()=5]/text()\")\n",
    "\n",
    "#convert to integers\n",
    "first_values = [int(v) for v in first_values]\n",
    "first_values[:5]"
   ]
  },
  {
   "cell_type": "code",
   "execution_count": 257,
   "id": "c4045219",
   "metadata": {},
   "outputs": [
    {
     "data": {
      "text/plain": [
       "[2022, 2022, 2022, 2022, 2022]"
      ]
     },
     "execution_count": 257,
     "metadata": {},
     "output_type": "execute_result"
    }
   ],
   "source": [
    "#get the values for last column\n",
    "last_values = table_node.xpath(\".//td[position()=6]/text()\")\n",
    "\n",
    "#convert to integers\n",
    "last_values = [int(v) for v in last_values]\n",
    "last_values[:5]"
   ]
  },
  {
   "cell_type": "code",
   "execution_count": 258,
   "id": "5f2be89a",
   "metadata": {},
   "outputs": [
    {
     "data": {
      "text/html": [
       "<div>\n",
       "<style scoped>\n",
       "    .dataframe tbody tr th:only-of-type {\n",
       "        vertical-align: middle;\n",
       "    }\n",
       "\n",
       "    .dataframe tbody tr th {\n",
       "        vertical-align: top;\n",
       "    }\n",
       "\n",
       "    .dataframe thead th {\n",
       "        text-align: right;\n",
       "    }\n",
       "</style>\n",
       "<table border=\"1\" class=\"dataframe\">\n",
       "  <thead>\n",
       "    <tr style=\"text-align: right;\">\n",
       "      <th></th>\n",
       "      <th>Country</th>\n",
       "      <th>Number of Winning Films</th>\n",
       "      <th>Number of Nominated Films</th>\n",
       "      <th>Number of Submitted Films</th>\n",
       "      <th>First submitted year</th>\n",
       "      <th>Last submitted year</th>\n",
       "    </tr>\n",
       "  </thead>\n",
       "  <tbody>\n",
       "    <tr>\n",
       "      <th>0</th>\n",
       "      <td>Italy</td>\n",
       "      <td>14</td>\n",
       "      <td>32</td>\n",
       "      <td>69</td>\n",
       "      <td>1947</td>\n",
       "      <td>2022</td>\n",
       "    </tr>\n",
       "    <tr>\n",
       "      <th>1</th>\n",
       "      <td>France</td>\n",
       "      <td>12</td>\n",
       "      <td>41</td>\n",
       "      <td>70</td>\n",
       "      <td>1948</td>\n",
       "      <td>2022</td>\n",
       "    </tr>\n",
       "    <tr>\n",
       "      <th>2</th>\n",
       "      <td>Japan</td>\n",
       "      <td>5</td>\n",
       "      <td>17</td>\n",
       "      <td>69</td>\n",
       "      <td>1951</td>\n",
       "      <td>2022</td>\n",
       "    </tr>\n",
       "    <tr>\n",
       "      <th>3</th>\n",
       "      <td>Spain</td>\n",
       "      <td>4</td>\n",
       "      <td>20</td>\n",
       "      <td>65</td>\n",
       "      <td>1956</td>\n",
       "      <td>2022</td>\n",
       "    </tr>\n",
       "    <tr>\n",
       "      <th>4</th>\n",
       "      <td>Denmark</td>\n",
       "      <td>4</td>\n",
       "      <td>14</td>\n",
       "      <td>60</td>\n",
       "      <td>1956</td>\n",
       "      <td>2022</td>\n",
       "    </tr>\n",
       "  </tbody>\n",
       "</table>\n",
       "</div>"
      ],
      "text/plain": [
       "   Country  Number of Winning Films  Number of Nominated Films  \\\n",
       "0    Italy                       14                         32   \n",
       "1   France                       12                         41   \n",
       "2    Japan                        5                         17   \n",
       "3    Spain                        4                         20   \n",
       "4  Denmark                        4                         14   \n",
       "\n",
       "   Number of Submitted Films  First submitted year  Last submitted year  \n",
       "0                         69                  1947                 2022  \n",
       "1                         70                  1948                 2022  \n",
       "2                         69                  1951                 2022  \n",
       "3                         65                  1956                 2022  \n",
       "4                         60                  1956                 2022  "
      ]
     },
     "execution_count": 258,
     "metadata": {},
     "output_type": "execute_result"
    }
   ],
   "source": [
    "#build DataFrame\n",
    "df3 = pd.DataFrame({\"Country\": country_values, \"Number of Winning Films\": winning_values, \n",
    "                   \"Number of Nominated Films\": nominated_values, \"Number of Submitted Films\": submitted_values, \n",
    "                  \"First submitted year\": first_values, \"Last submitted year\": last_values})\n",
    "df3.head(5)"
   ]
  },
  {
   "attachments": {},
   "cell_type": "markdown",
   "id": "b552c391",
   "metadata": {},
   "source": [
    "There are 6 columns and 134 rows in this data set. \n",
    "\n",
    "We plan to use the columns `Country`, `Number of Winning Films`, `Number of Nominated Films`, `Number of Submitted Films`."
   ]
  },
  {
   "attachments": {},
   "cell_type": "markdown",
   "id": "36256f64",
   "metadata": {},
   "source": [
    "### IV. Addressing the central question (added after feedback)\n",
    "\n",
    "We will join all the three tables of `Largest industries by number of film productions`, `Largest markets by number of box office admissions` and `Academy Awards for Best International Feature Film tally by country` together. We now have a single entity of films.\n",
    "\n",
    "We will add a column calculating the country’s number of box office admissions per number of film productions. This variable would show the success rate of a country in terms of public recognition. Similarly, we will add a column calculating the country's number of Oscar nominations per number of films submitted. This variable would show the success rate of a country in terms of professional recognition.\n",
    "\n",
    "Finally, we will analyze the values that measure public and professional recognition we created of countries and draw conclusions.\n",
    "\n",
    "### V. Joining the tables we scraped with indicators"
   ]
  },
  {
   "cell_type": "code",
   "execution_count": 259,
   "id": "81476dc8",
   "metadata": {},
   "outputs": [
    {
     "data": {
      "text/html": [
       "<div>\n",
       "<style scoped>\n",
       "    .dataframe tbody tr th:only-of-type {\n",
       "        vertical-align: middle;\n",
       "    }\n",
       "\n",
       "    .dataframe tbody tr th {\n",
       "        vertical-align: top;\n",
       "    }\n",
       "\n",
       "    .dataframe thead th {\n",
       "        text-align: right;\n",
       "    }\n",
       "</style>\n",
       "<table border=\"1\" class=\"dataframe\">\n",
       "  <thead>\n",
       "    <tr style=\"text-align: right;\">\n",
       "      <th></th>\n",
       "      <th>Country</th>\n",
       "      <th>Films</th>\n",
       "      <th>Number of admissions</th>\n",
       "      <th>Number of Winning Films</th>\n",
       "      <th>Number of Nominated Films</th>\n",
       "      <th>Number of Submitted Films</th>\n",
       "    </tr>\n",
       "  </thead>\n",
       "  <tbody>\n",
       "    <tr>\n",
       "      <th>0</th>\n",
       "      <td>India</td>\n",
       "      <td>2446</td>\n",
       "      <td>1514</td>\n",
       "      <td>0</td>\n",
       "      <td>3</td>\n",
       "      <td>55</td>\n",
       "    </tr>\n",
       "    <tr>\n",
       "      <th>1</th>\n",
       "      <td>China</td>\n",
       "      <td>874</td>\n",
       "      <td>1650</td>\n",
       "      <td>0</td>\n",
       "      <td>2</td>\n",
       "      <td>36</td>\n",
       "    </tr>\n",
       "    <tr>\n",
       "      <th>2</th>\n",
       "      <td>Japan</td>\n",
       "      <td>689</td>\n",
       "      <td>194</td>\n",
       "      <td>5</td>\n",
       "      <td>17</td>\n",
       "      <td>69</td>\n",
       "    </tr>\n",
       "    <tr>\n",
       "      <th>3</th>\n",
       "      <td>South Korea</td>\n",
       "      <td>339</td>\n",
       "      <td>239</td>\n",
       "      <td>1</td>\n",
       "      <td>1</td>\n",
       "      <td>35</td>\n",
       "    </tr>\n",
       "    <tr>\n",
       "      <th>4</th>\n",
       "      <td>France</td>\n",
       "      <td>300</td>\n",
       "      <td>205</td>\n",
       "      <td>12</td>\n",
       "      <td>41</td>\n",
       "      <td>70</td>\n",
       "    </tr>\n",
       "    <tr>\n",
       "      <th>5</th>\n",
       "      <td>United Kingdom</td>\n",
       "      <td>285</td>\n",
       "      <td>175</td>\n",
       "      <td>0</td>\n",
       "      <td>2</td>\n",
       "      <td>19</td>\n",
       "    </tr>\n",
       "    <tr>\n",
       "      <th>6</th>\n",
       "      <td>Mexico</td>\n",
       "      <td>176</td>\n",
       "      <td>352</td>\n",
       "      <td>1</td>\n",
       "      <td>9</td>\n",
       "      <td>55</td>\n",
       "    </tr>\n",
       "    <tr>\n",
       "      <th>7</th>\n",
       "      <td>Brazil</td>\n",
       "      <td>160</td>\n",
       "      <td>177</td>\n",
       "      <td>0</td>\n",
       "      <td>4</td>\n",
       "      <td>52</td>\n",
       "    </tr>\n",
       "  </tbody>\n",
       "</table>\n",
       "</div>"
      ],
      "text/plain": [
       "          Country  Films  Number of admissions  Number of Winning Films  \\\n",
       "0           India   2446                  1514                        0   \n",
       "1           China    874                  1650                        0   \n",
       "2           Japan    689                   194                        5   \n",
       "3     South Korea    339                   239                        1   \n",
       "4          France    300                   205                       12   \n",
       "5  United Kingdom    285                   175                        0   \n",
       "6          Mexico    176                   352                        1   \n",
       "7          Brazil    160                   177                        0   \n",
       "\n",
       "   Number of Nominated Films  Number of Submitted Films  \n",
       "0                          3                         55  \n",
       "1                          2                         36  \n",
       "2                         17                         69  \n",
       "3                          1                         35  \n",
       "4                         41                         70  \n",
       "5                          2                         19  \n",
       "6                          9                         55  \n",
       "7                          4                         52  "
      ]
     },
     "execution_count": 259,
     "metadata": {},
     "output_type": "execute_result"
    }
   ],
   "source": [
    "# Join the three tables we scraped using column \"Country\"\n",
    "df12 = pd.merge(df1, df2, on = \"Country\", how = \"inner\")\n",
    "df = pd.merge(df12, df3, on = \"Country\", how = \"inner\")\n",
    "df = df[[\"Country\", \"Films\", \"Number of admissions\", \"Number of Winning Films\", \"Number of Nominated Films\", \"Number of Submitted Films\"]]\n",
    "df"
   ]
  },
  {
   "cell_type": "code",
   "execution_count": 260,
   "id": "0471546b",
   "metadata": {},
   "outputs": [
    {
     "data": {
      "text/html": [
       "<div>\n",
       "<style scoped>\n",
       "    .dataframe tbody tr th:only-of-type {\n",
       "        vertical-align: middle;\n",
       "    }\n",
       "\n",
       "    .dataframe tbody tr th {\n",
       "        vertical-align: top;\n",
       "    }\n",
       "\n",
       "    .dataframe thead th {\n",
       "        text-align: right;\n",
       "    }\n",
       "</style>\n",
       "<table border=\"1\" class=\"dataframe\">\n",
       "  <thead>\n",
       "    <tr style=\"text-align: right;\">\n",
       "      <th></th>\n",
       "      <th>code</th>\n",
       "      <th>year</th>\n",
       "      <th>Country</th>\n",
       "      <th>pop</th>\n",
       "      <th>gdp</th>\n",
       "      <th>life</th>\n",
       "      <th>cell</th>\n",
       "    </tr>\n",
       "  </thead>\n",
       "  <tbody>\n",
       "    <tr>\n",
       "      <th>56</th>\n",
       "      <td>ABW</td>\n",
       "      <td>2016</td>\n",
       "      <td>Aruba</td>\n",
       "      <td>0.10</td>\n",
       "      <td>NaN</td>\n",
       "      <td>75.87</td>\n",
       "      <td>NaN</td>\n",
       "    </tr>\n",
       "    <tr>\n",
       "      <th>113</th>\n",
       "      <td>AFG</td>\n",
       "      <td>2016</td>\n",
       "      <td>Afghanistan</td>\n",
       "      <td>34.66</td>\n",
       "      <td>19.47</td>\n",
       "      <td>63.67</td>\n",
       "      <td>21.60</td>\n",
       "    </tr>\n",
       "    <tr>\n",
       "      <th>170</th>\n",
       "      <td>AGO</td>\n",
       "      <td>2016</td>\n",
       "      <td>Angola</td>\n",
       "      <td>28.81</td>\n",
       "      <td>95.34</td>\n",
       "      <td>61.55</td>\n",
       "      <td>13.00</td>\n",
       "    </tr>\n",
       "    <tr>\n",
       "      <th>227</th>\n",
       "      <td>ALB</td>\n",
       "      <td>2016</td>\n",
       "      <td>Albania</td>\n",
       "      <td>2.88</td>\n",
       "      <td>11.86</td>\n",
       "      <td>78.34</td>\n",
       "      <td>3.37</td>\n",
       "    </tr>\n",
       "    <tr>\n",
       "      <th>284</th>\n",
       "      <td>AND</td>\n",
       "      <td>2016</td>\n",
       "      <td>Andorra</td>\n",
       "      <td>0.08</td>\n",
       "      <td>2.86</td>\n",
       "      <td>NaN</td>\n",
       "      <td>0.07</td>\n",
       "    </tr>\n",
       "    <tr>\n",
       "      <th>...</th>\n",
       "      <td>...</td>\n",
       "      <td>...</td>\n",
       "      <td>...</td>\n",
       "      <td>...</td>\n",
       "      <td>...</td>\n",
       "      <td>...</td>\n",
       "      <td>...</td>\n",
       "    </tr>\n",
       "    <tr>\n",
       "      <th>12311</th>\n",
       "      <td>XKX</td>\n",
       "      <td>2016</td>\n",
       "      <td>Kosovo</td>\n",
       "      <td>1.82</td>\n",
       "      <td>6.65</td>\n",
       "      <td>71.65</td>\n",
       "      <td>NaN</td>\n",
       "    </tr>\n",
       "    <tr>\n",
       "      <th>12368</th>\n",
       "      <td>YEM</td>\n",
       "      <td>2016</td>\n",
       "      <td>Yemen, Rep.</td>\n",
       "      <td>27.58</td>\n",
       "      <td>27.32</td>\n",
       "      <td>64.95</td>\n",
       "      <td>16.43</td>\n",
       "    </tr>\n",
       "    <tr>\n",
       "      <th>12425</th>\n",
       "      <td>ZAF</td>\n",
       "      <td>2016</td>\n",
       "      <td>South Africa</td>\n",
       "      <td>56.02</td>\n",
       "      <td>295.46</td>\n",
       "      <td>62.77</td>\n",
       "      <td>82.41</td>\n",
       "    </tr>\n",
       "    <tr>\n",
       "      <th>12482</th>\n",
       "      <td>ZMB</td>\n",
       "      <td>2016</td>\n",
       "      <td>Zambia</td>\n",
       "      <td>16.59</td>\n",
       "      <td>21.06</td>\n",
       "      <td>61.87</td>\n",
       "      <td>12.02</td>\n",
       "    </tr>\n",
       "    <tr>\n",
       "      <th>12539</th>\n",
       "      <td>ZWE</td>\n",
       "      <td>2016</td>\n",
       "      <td>Zimbabwe</td>\n",
       "      <td>16.15</td>\n",
       "      <td>16.62</td>\n",
       "      <td>61.16</td>\n",
       "      <td>12.88</td>\n",
       "    </tr>\n",
       "  </tbody>\n",
       "</table>\n",
       "<p>220 rows × 7 columns</p>\n",
       "</div>"
      ],
      "text/plain": [
       "      code  year       Country    pop     gdp   life   cell\n",
       "56     ABW  2016         Aruba   0.10     NaN  75.87    NaN\n",
       "113    AFG  2016   Afghanistan  34.66   19.47  63.67  21.60\n",
       "170    AGO  2016        Angola  28.81   95.34  61.55  13.00\n",
       "227    ALB  2016       Albania   2.88   11.86  78.34   3.37\n",
       "284    AND  2016       Andorra   0.08    2.86    NaN   0.07\n",
       "...    ...   ...           ...    ...     ...    ...    ...\n",
       "12311  XKX  2016        Kosovo   1.82    6.65  71.65    NaN\n",
       "12368  YEM  2016   Yemen, Rep.  27.58   27.32  64.95  16.43\n",
       "12425  ZAF  2016  South Africa  56.02  295.46  62.77  82.41\n",
       "12482  ZMB  2016        Zambia  16.59   21.06  61.87  12.02\n",
       "12539  ZWE  2016      Zimbabwe  16.15   16.62  61.16  12.88\n",
       "\n",
       "[220 rows x 7 columns]"
      ]
     },
     "execution_count": 260,
     "metadata": {},
     "output_type": "execute_result"
    }
   ],
   "source": [
    "# Create indicators data frame\n",
    "filepath = \"data/indicators.csv\"\n",
    "indicators = pd.read_csv(filepath)\n",
    "indicators = indicators[indicators[\"year\"] == 2016]\n",
    "indicators = indicators.rename(columns = {\"country\": \"Country\"})\n",
    "indicators"
   ]
  },
  {
   "cell_type": "code",
   "execution_count": 261,
   "id": "71a8ba93",
   "metadata": {},
   "outputs": [
    {
     "data": {
      "text/html": [
       "<div>\n",
       "<style scoped>\n",
       "    .dataframe tbody tr th:only-of-type {\n",
       "        vertical-align: middle;\n",
       "    }\n",
       "\n",
       "    .dataframe tbody tr th {\n",
       "        vertical-align: top;\n",
       "    }\n",
       "\n",
       "    .dataframe thead th {\n",
       "        text-align: right;\n",
       "    }\n",
       "</style>\n",
       "<table border=\"1\" class=\"dataframe\">\n",
       "  <thead>\n",
       "    <tr style=\"text-align: right;\">\n",
       "      <th></th>\n",
       "      <th>Country</th>\n",
       "      <th>Population</th>\n",
       "      <th>NumFilmsProd</th>\n",
       "      <th>NumWinFilms</th>\n",
       "      <th>NumNomFilms</th>\n",
       "      <th>NumSubFilms</th>\n",
       "      <th>NumAdmissions</th>\n",
       "    </tr>\n",
       "  </thead>\n",
       "  <tbody>\n",
       "    <tr>\n",
       "      <th>0</th>\n",
       "      <td>India</td>\n",
       "      <td>1324.17</td>\n",
       "      <td>2446</td>\n",
       "      <td>0</td>\n",
       "      <td>3</td>\n",
       "      <td>55</td>\n",
       "      <td>1514</td>\n",
       "    </tr>\n",
       "    <tr>\n",
       "      <th>1</th>\n",
       "      <td>China</td>\n",
       "      <td>1378.66</td>\n",
       "      <td>874</td>\n",
       "      <td>0</td>\n",
       "      <td>2</td>\n",
       "      <td>36</td>\n",
       "      <td>1650</td>\n",
       "    </tr>\n",
       "    <tr>\n",
       "      <th>2</th>\n",
       "      <td>Japan</td>\n",
       "      <td>126.99</td>\n",
       "      <td>689</td>\n",
       "      <td>5</td>\n",
       "      <td>17</td>\n",
       "      <td>69</td>\n",
       "      <td>194</td>\n",
       "    </tr>\n",
       "    <tr>\n",
       "      <th>3</th>\n",
       "      <td>France</td>\n",
       "      <td>66.89</td>\n",
       "      <td>300</td>\n",
       "      <td>12</td>\n",
       "      <td>41</td>\n",
       "      <td>70</td>\n",
       "      <td>205</td>\n",
       "    </tr>\n",
       "    <tr>\n",
       "      <th>4</th>\n",
       "      <td>United Kingdom</td>\n",
       "      <td>65.60</td>\n",
       "      <td>285</td>\n",
       "      <td>0</td>\n",
       "      <td>2</td>\n",
       "      <td>19</td>\n",
       "      <td>175</td>\n",
       "    </tr>\n",
       "    <tr>\n",
       "      <th>5</th>\n",
       "      <td>Mexico</td>\n",
       "      <td>127.54</td>\n",
       "      <td>176</td>\n",
       "      <td>1</td>\n",
       "      <td>9</td>\n",
       "      <td>55</td>\n",
       "      <td>352</td>\n",
       "    </tr>\n",
       "    <tr>\n",
       "      <th>6</th>\n",
       "      <td>Brazil</td>\n",
       "      <td>207.65</td>\n",
       "      <td>160</td>\n",
       "      <td>0</td>\n",
       "      <td>4</td>\n",
       "      <td>52</td>\n",
       "      <td>177</td>\n",
       "    </tr>\n",
       "  </tbody>\n",
       "</table>\n",
       "</div>"
      ],
      "text/plain": [
       "          Country  Population  NumFilmsProd  NumWinFilms  NumNomFilms  \\\n",
       "0           India     1324.17          2446            0            3   \n",
       "1           China     1378.66           874            0            2   \n",
       "2           Japan      126.99           689            5           17   \n",
       "3          France       66.89           300           12           41   \n",
       "4  United Kingdom       65.60           285            0            2   \n",
       "5          Mexico      127.54           176            1            9   \n",
       "6          Brazil      207.65           160            0            4   \n",
       "\n",
       "   NumSubFilms  NumAdmissions  \n",
       "0           55           1514  \n",
       "1           36           1650  \n",
       "2           69            194  \n",
       "3           70            205  \n",
       "4           19            175  \n",
       "5           55            352  \n",
       "6           52            177  "
      ]
     },
     "execution_count": 261,
     "metadata": {},
     "output_type": "execute_result"
    }
   ],
   "source": [
    "# Join our existing data frame with indicators\n",
    "df = pd.merge(df, indicators, on = \"Country\", how = \"inner\")\n",
    "df = df[[\"Country\", \"pop\", \"Films\", \"Number of Winning Films\", \"Number of Nominated Films\", \"Number of Submitted Films\", \"Number of admissions\"]]\n",
    "df = df.rename(columns = {\"pop\": \"Population\", \"Films\": \"NumFilmsProd\", \"Number of Winning Films\": \"NumWinFilms\", \n",
    "                          \"Number of Nominated Films\": \"NumNomFilms\", \"Number of Submitted Films\": \"NumSubFilms\",\n",
    "                          \"Number of admissions\": \"NumAdmissions\"})\n",
    "df\n"
   ]
  },
  {
   "attachments": {},
   "cell_type": "markdown",
   "id": "0d656050",
   "metadata": {},
   "source": [
    "The table above is tidy. We will do analysis with it."
   ]
  },
  {
   "attachments": {},
   "cell_type": "markdown",
   "id": "2480b5e7",
   "metadata": {},
   "source": [
    "### VI. ONTO SQL !"
   ]
  },
  {
   "attachments": {},
   "cell_type": "markdown",
   "id": "afbc7e4b",
   "metadata": {},
   "source": [
    "Now that we have the pandas DataFrame of films, we will now put it in a SQL database named `films.db`"
   ]
  },
  {
   "cell_type": "code",
   "execution_count": 262,
   "id": "ed085f20",
   "metadata": {},
   "outputs": [],
   "source": [
    "def getsqlite_creds(dirname=\".\",filename=\"creds.json\",source=\"sqlite\"):\n",
    "    \"\"\" Using directory and filename parameters, open a credentials file\n",
    "        and obtain the two parts needed for a connection string to\n",
    "        a local provider using the \"sqlite\" dictionary within\n",
    "        an outer dictionary.  \n",
    "        \n",
    "        Return a scheme and a dbfile\n",
    "    \"\"\"\n",
    "    assert os.path.isfile(os.path.join(dirname, filename))\n",
    "    with open(os.path.join(dirname, filename)) as f:\n",
    "        D = json.load(f)\n",
    "    sqlite = D[source]\n",
    "    return sqlite[\"scheme\"], sqlite[\"dbdir\"], sqlite[\"database\"]"
   ]
  },
  {
   "cell_type": "code",
   "execution_count": 263,
   "id": "f45b37f3",
   "metadata": {},
   "outputs": [],
   "source": [
    "def buildConnectionString(source=\"sqlite\"):\n",
    "    scheme, dbdir, database = getsqlite_creds(source=source)\n",
    "    template = '{}:///{}/{}.db'\n",
    "    return template.format(scheme, dbdir, database)"
   ]
  },
  {
   "cell_type": "code",
   "execution_count": 264,
   "id": "c8366f14",
   "metadata": {},
   "outputs": [
    {
     "name": "stdout",
     "output_type": "stream",
     "text": [
      "Connection string: sqlite:///dbfiles/films.db\n"
     ]
    }
   ],
   "source": [
    "# Build the conection string\n",
    "cstring = buildConnectionString(\"sqlite\")\n",
    "print(\"Connection string:\", cstring)\n",
    "\n",
    "# Connect to the database\n",
    "engine = sa.create_engine(cstring)\n",
    "connection = engine.connect()"
   ]
  },
  {
   "attachments": {},
   "cell_type": "markdown",
   "id": "267d3bb7",
   "metadata": {},
   "source": [
    "At this point, we have successfully build the connection to an empty database: `films.db`. In the following code cell, we execute a statement to create SQL `films` table."
   ]
  },
  {
   "cell_type": "code",
   "execution_count": 265,
   "id": "88aff1d9",
   "metadata": {},
   "outputs": [],
   "source": [
    "statement = \"\"\"\n",
    "CREATE TABLE IF NOT EXISTS films (\n",
    "Country VARCHAR(64) NOT NULL,\n",
    "Population FLOAT,\n",
    "NumFilmsProd INT,\n",
    "NumWinFilms INT,\n",
    "NumNomFilms FLOAT,\n",
    "NumSubFilms FLOAT,\n",
    "NumAdmissions INT,\n",
    "PRIMARY KEY (Country)\n",
    ")\n",
    "\"\"\"\n",
    "try:\n",
    "    connection.execute(statement)\n",
    "except sa.exc.SQLAlchemyError as err:\n",
    "    print(\"CREATE of films failed:\", str(err))"
   ]
  },
  {
   "attachments": {},
   "cell_type": "markdown",
   "id": "75b0dd7f",
   "metadata": {},
   "source": [
    "We now put data from pandas DataFrame `df` we constructed earlier to SQL `films` table."
   ]
  },
  {
   "cell_type": "code",
   "execution_count": 266,
   "id": "2c757209",
   "metadata": {},
   "outputs": [],
   "source": [
    "#df.to_sql(\"films\", con=connection, if_exists=\"append\",index=False)"
   ]
  },
  {
   "attachments": {},
   "cell_type": "markdown",
   "id": "047eb27f",
   "metadata": {},
   "source": [
    "It's a success! We now have the `films` table in the `films` database in SQL. In the following code cells, we will create a `countries` table in the `films` database, read countries data from CSV to pandas DataFrame, and convert the pandas DataFrame to SQL table.\n",
    "\n",
    "In the process of getting SQL `countries` table, we encounter some difficulties. Although the process was roughly similar to what we have above (add in the pandas DataFrame from csv file like indicators, creating SQL table like films), we did not fully grasp the idea of creating SQL tables. \n",
    "\n",
    "We initially copied the `countries` table from `book.db` and moved on to data analysis with that. That is not a logical thing to do, as we did not manually create a `countries` table, leading to this notebook of data acquisition being insufficient to acquire all the tables we need for analysis. After thinking about it, we went back to this notebook of data acquisition and add in the code to get `countries` table."
   ]
  },
  {
   "cell_type": "code",
   "execution_count": 267,
   "id": "cc64dfad",
   "metadata": {},
   "outputs": [],
   "source": [
    "statement = \"\"\"\n",
    "CREATE TABLE IF NOT EXISTS countries (\n",
    "code CHAR(3) NOT NULL,\n",
    "Country VARCHAR(64),\n",
    "currency VARCHAR(64),\n",
    "region VARCHAR(64),\n",
    "income FLOAT,\n",
    "PRIMARY KEY (code)\n",
    ")\n",
    "\"\"\"\n",
    "try:\n",
    "    connection.execute(statement)\n",
    "except sa.exc.SQLAlchemyError as err:\n",
    "    print(\"CREATE of films failed:\", str(err))"
   ]
  },
  {
   "cell_type": "code",
   "execution_count": 268,
   "id": "2efd6725",
   "metadata": {},
   "outputs": [
    {
     "data": {
      "text/html": [
       "<div>\n",
       "<style scoped>\n",
       "    .dataframe tbody tr th:only-of-type {\n",
       "        vertical-align: middle;\n",
       "    }\n",
       "\n",
       "    .dataframe tbody tr th {\n",
       "        vertical-align: top;\n",
       "    }\n",
       "\n",
       "    .dataframe thead th {\n",
       "        text-align: right;\n",
       "    }\n",
       "</style>\n",
       "<table border=\"1\" class=\"dataframe\">\n",
       "  <thead>\n",
       "    <tr style=\"text-align: right;\">\n",
       "      <th></th>\n",
       "      <th>code</th>\n",
       "      <th>Country</th>\n",
       "      <th>currency</th>\n",
       "      <th>region</th>\n",
       "      <th>income</th>\n",
       "    </tr>\n",
       "  </thead>\n",
       "  <tbody>\n",
       "    <tr>\n",
       "      <th>0</th>\n",
       "      <td>ABW</td>\n",
       "      <td>Aruba</td>\n",
       "      <td>Aruban florin</td>\n",
       "      <td>Latin America &amp; Caribbean</td>\n",
       "      <td>High income</td>\n",
       "    </tr>\n",
       "    <tr>\n",
       "      <th>1</th>\n",
       "      <td>AFG</td>\n",
       "      <td>Afghanistan</td>\n",
       "      <td>Afghan afghani</td>\n",
       "      <td>South Asia</td>\n",
       "      <td>Low income</td>\n",
       "    </tr>\n",
       "    <tr>\n",
       "      <th>2</th>\n",
       "      <td>AGO</td>\n",
       "      <td>Angola</td>\n",
       "      <td>Angolan kwanza</td>\n",
       "      <td>Sub-Saharan Africa</td>\n",
       "      <td>Lower middle income</td>\n",
       "    </tr>\n",
       "    <tr>\n",
       "      <th>3</th>\n",
       "      <td>ALB</td>\n",
       "      <td>Albania</td>\n",
       "      <td>Albanian lek</td>\n",
       "      <td>Europe &amp; Central Asia</td>\n",
       "      <td>Upper middle income</td>\n",
       "    </tr>\n",
       "    <tr>\n",
       "      <th>4</th>\n",
       "      <td>AND</td>\n",
       "      <td>Andorra</td>\n",
       "      <td>Euro</td>\n",
       "      <td>Europe &amp; Central Asia</td>\n",
       "      <td>High income</td>\n",
       "    </tr>\n",
       "    <tr>\n",
       "      <th>...</th>\n",
       "      <td>...</td>\n",
       "      <td>...</td>\n",
       "      <td>...</td>\n",
       "      <td>...</td>\n",
       "      <td>...</td>\n",
       "    </tr>\n",
       "    <tr>\n",
       "      <th>212</th>\n",
       "      <td>XKX</td>\n",
       "      <td>Kosovo</td>\n",
       "      <td>Euro</td>\n",
       "      <td>Europe &amp; Central Asia</td>\n",
       "      <td>Upper middle income</td>\n",
       "    </tr>\n",
       "    <tr>\n",
       "      <th>213</th>\n",
       "      <td>YEM</td>\n",
       "      <td>Yemen</td>\n",
       "      <td>Yemeni rial</td>\n",
       "      <td>Middle East &amp; North Africa</td>\n",
       "      <td>Low income</td>\n",
       "    </tr>\n",
       "    <tr>\n",
       "      <th>214</th>\n",
       "      <td>ZAF</td>\n",
       "      <td>South Africa</td>\n",
       "      <td>South African rand</td>\n",
       "      <td>Sub-Saharan Africa</td>\n",
       "      <td>Upper middle income</td>\n",
       "    </tr>\n",
       "    <tr>\n",
       "      <th>215</th>\n",
       "      <td>ZMB</td>\n",
       "      <td>Zambia</td>\n",
       "      <td>New Zambian kwacha</td>\n",
       "      <td>Sub-Saharan Africa</td>\n",
       "      <td>Lower middle income</td>\n",
       "    </tr>\n",
       "    <tr>\n",
       "      <th>216</th>\n",
       "      <td>ZWE</td>\n",
       "      <td>Zimbabwe</td>\n",
       "      <td>U.S. dollar</td>\n",
       "      <td>Sub-Saharan Africa</td>\n",
       "      <td>Lower middle income</td>\n",
       "    </tr>\n",
       "  </tbody>\n",
       "</table>\n",
       "<p>217 rows × 5 columns</p>\n",
       "</div>"
      ],
      "text/plain": [
       "    code       Country            currency                      region  \\\n",
       "0    ABW         Aruba       Aruban florin   Latin America & Caribbean   \n",
       "1    AFG   Afghanistan      Afghan afghani                  South Asia   \n",
       "2    AGO        Angola      Angolan kwanza          Sub-Saharan Africa   \n",
       "3    ALB       Albania        Albanian lek       Europe & Central Asia   \n",
       "4    AND       Andorra                Euro       Europe & Central Asia   \n",
       "..   ...           ...                 ...                         ...   \n",
       "212  XKX        Kosovo                Euro       Europe & Central Asia   \n",
       "213  YEM         Yemen         Yemeni rial  Middle East & North Africa   \n",
       "214  ZAF  South Africa  South African rand          Sub-Saharan Africa   \n",
       "215  ZMB        Zambia  New Zambian kwacha          Sub-Saharan Africa   \n",
       "216  ZWE      Zimbabwe         U.S. dollar          Sub-Saharan Africa   \n",
       "\n",
       "                  income  \n",
       "0            High income  \n",
       "1             Low income  \n",
       "2    Lower middle income  \n",
       "3    Upper middle income  \n",
       "4            High income  \n",
       "..                   ...  \n",
       "212  Upper middle income  \n",
       "213           Low income  \n",
       "214  Upper middle income  \n",
       "215  Lower middle income  \n",
       "216  Lower middle income  \n",
       "\n",
       "[217 rows x 5 columns]"
      ]
     },
     "execution_count": 268,
     "metadata": {},
     "output_type": "execute_result"
    }
   ],
   "source": [
    "# Create countries data frame\n",
    "filepath = os.path.join(datadir, \"countries.csv\")\n",
    "df2 = pd.read_csv(filepath)\n",
    "df2 = df2.rename(columns = {\"ccode\": \"code\", \"name\": \"Country\"})\n",
    "df2"
   ]
  },
  {
   "cell_type": "code",
   "execution_count": 269,
   "id": "2f666a8c",
   "metadata": {},
   "outputs": [],
   "source": [
    "#df2.to_sql(\"countries\", con=connection, if_exists=\"append\",index=False)"
   ]
  },
  {
   "attachments": {},
   "cell_type": "markdown",
   "id": "e95450bd",
   "metadata": {},
   "source": [
    "---\n",
    "### VII. Display tables using SQL query"
   ]
  },
  {
   "cell_type": "code",
   "execution_count": 270,
   "id": "5073eb69",
   "metadata": {},
   "outputs": [
    {
     "data": {
      "text/html": [
       "<div>\n",
       "<style scoped>\n",
       "    .dataframe tbody tr th:only-of-type {\n",
       "        vertical-align: middle;\n",
       "    }\n",
       "\n",
       "    .dataframe tbody tr th {\n",
       "        vertical-align: top;\n",
       "    }\n",
       "\n",
       "    .dataframe thead th {\n",
       "        text-align: right;\n",
       "    }\n",
       "</style>\n",
       "<table border=\"1\" class=\"dataframe\">\n",
       "  <thead>\n",
       "    <tr style=\"text-align: right;\">\n",
       "      <th></th>\n",
       "      <th>Country</th>\n",
       "      <th>Population</th>\n",
       "      <th>NumFilmsProd</th>\n",
       "      <th>NumWinFilms</th>\n",
       "      <th>NumNomFilms</th>\n",
       "      <th>NumSubFilms</th>\n",
       "      <th>NumAdmissions</th>\n",
       "    </tr>\n",
       "  </thead>\n",
       "  <tbody>\n",
       "    <tr>\n",
       "      <th>0</th>\n",
       "      <td>India</td>\n",
       "      <td>1324.17</td>\n",
       "      <td>2446</td>\n",
       "      <td>0</td>\n",
       "      <td>3.0</td>\n",
       "      <td>55.0</td>\n",
       "      <td>1514</td>\n",
       "    </tr>\n",
       "    <tr>\n",
       "      <th>1</th>\n",
       "      <td>China</td>\n",
       "      <td>1378.66</td>\n",
       "      <td>874</td>\n",
       "      <td>0</td>\n",
       "      <td>2.0</td>\n",
       "      <td>36.0</td>\n",
       "      <td>1650</td>\n",
       "    </tr>\n",
       "    <tr>\n",
       "      <th>2</th>\n",
       "      <td>Japan</td>\n",
       "      <td>126.99</td>\n",
       "      <td>689</td>\n",
       "      <td>5</td>\n",
       "      <td>17.0</td>\n",
       "      <td>69.0</td>\n",
       "      <td>194</td>\n",
       "    </tr>\n",
       "    <tr>\n",
       "      <th>3</th>\n",
       "      <td>France</td>\n",
       "      <td>66.89</td>\n",
       "      <td>300</td>\n",
       "      <td>12</td>\n",
       "      <td>41.0</td>\n",
       "      <td>70.0</td>\n",
       "      <td>205</td>\n",
       "    </tr>\n",
       "    <tr>\n",
       "      <th>4</th>\n",
       "      <td>United Kingdom</td>\n",
       "      <td>65.60</td>\n",
       "      <td>285</td>\n",
       "      <td>0</td>\n",
       "      <td>2.0</td>\n",
       "      <td>19.0</td>\n",
       "      <td>175</td>\n",
       "    </tr>\n",
       "    <tr>\n",
       "      <th>5</th>\n",
       "      <td>Mexico</td>\n",
       "      <td>127.54</td>\n",
       "      <td>176</td>\n",
       "      <td>1</td>\n",
       "      <td>9.0</td>\n",
       "      <td>55.0</td>\n",
       "      <td>352</td>\n",
       "    </tr>\n",
       "    <tr>\n",
       "      <th>6</th>\n",
       "      <td>Brazil</td>\n",
       "      <td>207.65</td>\n",
       "      <td>160</td>\n",
       "      <td>0</td>\n",
       "      <td>4.0</td>\n",
       "      <td>52.0</td>\n",
       "      <td>177</td>\n",
       "    </tr>\n",
       "  </tbody>\n",
       "</table>\n",
       "</div>"
      ],
      "text/plain": [
       "          Country  Population  NumFilmsProd  NumWinFilms  NumNomFilms  \\\n",
       "0           India     1324.17          2446            0          3.0   \n",
       "1           China     1378.66           874            0          2.0   \n",
       "2           Japan      126.99           689            5         17.0   \n",
       "3          France       66.89           300           12         41.0   \n",
       "4  United Kingdom       65.60           285            0          2.0   \n",
       "5          Mexico      127.54           176            1          9.0   \n",
       "6          Brazil      207.65           160            0          4.0   \n",
       "\n",
       "   NumSubFilms  NumAdmissions  \n",
       "0         55.0           1514  \n",
       "1         36.0           1650  \n",
       "2         69.0            194  \n",
       "3         70.0            205  \n",
       "4         19.0            175  \n",
       "5         55.0            352  \n",
       "6         52.0            177  "
      ]
     },
     "execution_count": 270,
     "metadata": {},
     "output_type": "execute_result"
    }
   ],
   "source": [
    "query = \"\"\"\n",
    "SELECT *\n",
    "FROM films\n",
    "\"\"\"\n",
    "df_q1 = pd.read_sql_query(query, con=connection)\n",
    "df_q1"
   ]
  },
  {
   "cell_type": "code",
   "execution_count": 271,
   "id": "5dc9e8bd",
   "metadata": {},
   "outputs": [
    {
     "data": {
      "text/html": [
       "<div>\n",
       "<style scoped>\n",
       "    .dataframe tbody tr th:only-of-type {\n",
       "        vertical-align: middle;\n",
       "    }\n",
       "\n",
       "    .dataframe tbody tr th {\n",
       "        vertical-align: top;\n",
       "    }\n",
       "\n",
       "    .dataframe thead th {\n",
       "        text-align: right;\n",
       "    }\n",
       "</style>\n",
       "<table border=\"1\" class=\"dataframe\">\n",
       "  <thead>\n",
       "    <tr style=\"text-align: right;\">\n",
       "      <th></th>\n",
       "      <th>code</th>\n",
       "      <th>Country</th>\n",
       "      <th>currency</th>\n",
       "      <th>region</th>\n",
       "      <th>income</th>\n",
       "    </tr>\n",
       "  </thead>\n",
       "  <tbody>\n",
       "    <tr>\n",
       "      <th>0</th>\n",
       "      <td>ABW</td>\n",
       "      <td>Aruba</td>\n",
       "      <td>Aruban florin</td>\n",
       "      <td>Latin America &amp; Caribbean</td>\n",
       "      <td>High income</td>\n",
       "    </tr>\n",
       "    <tr>\n",
       "      <th>1</th>\n",
       "      <td>AFG</td>\n",
       "      <td>Afghanistan</td>\n",
       "      <td>Afghan afghani</td>\n",
       "      <td>South Asia</td>\n",
       "      <td>Low income</td>\n",
       "    </tr>\n",
       "    <tr>\n",
       "      <th>2</th>\n",
       "      <td>AGO</td>\n",
       "      <td>Angola</td>\n",
       "      <td>Angolan kwanza</td>\n",
       "      <td>Sub-Saharan Africa</td>\n",
       "      <td>Lower middle income</td>\n",
       "    </tr>\n",
       "    <tr>\n",
       "      <th>3</th>\n",
       "      <td>ALB</td>\n",
       "      <td>Albania</td>\n",
       "      <td>Albanian lek</td>\n",
       "      <td>Europe &amp; Central Asia</td>\n",
       "      <td>Upper middle income</td>\n",
       "    </tr>\n",
       "    <tr>\n",
       "      <th>4</th>\n",
       "      <td>AND</td>\n",
       "      <td>Andorra</td>\n",
       "      <td>Euro</td>\n",
       "      <td>Europe &amp; Central Asia</td>\n",
       "      <td>High income</td>\n",
       "    </tr>\n",
       "  </tbody>\n",
       "</table>\n",
       "</div>"
      ],
      "text/plain": [
       "  code      Country        currency                     region  \\\n",
       "0  ABW        Aruba   Aruban florin  Latin America & Caribbean   \n",
       "1  AFG  Afghanistan  Afghan afghani                 South Asia   \n",
       "2  AGO       Angola  Angolan kwanza         Sub-Saharan Africa   \n",
       "3  ALB      Albania    Albanian lek      Europe & Central Asia   \n",
       "4  AND      Andorra            Euro      Europe & Central Asia   \n",
       "\n",
       "                income  \n",
       "0          High income  \n",
       "1           Low income  \n",
       "2  Lower middle income  \n",
       "3  Upper middle income  \n",
       "4          High income  "
      ]
     },
     "execution_count": 271,
     "metadata": {},
     "output_type": "execute_result"
    }
   ],
   "source": [
    "query = \"\"\"\n",
    "SELECT *\n",
    "FROM countries\n",
    "\"\"\"\n",
    "df_q2 = pd.read_sql_query(query, con=connection)\n",
    "df_q2.head(5)"
   ]
  },
  {
   "cell_type": "code",
   "execution_count": 272,
   "id": "6ce564cd",
   "metadata": {},
   "outputs": [
    {
     "data": {
      "image/png": "[encoded data removed]",
      "text/plain": [
       "<IPython.core.display.Image object>"
      ]
     },
     "execution_count": 272,
     "metadata": {
      "image/png": {
       "height": 600,
       "width": 600
      }
     },
     "output_type": "execute_result"
    }
   ],
   "source": [
    "from IPython.display import Image\n",
    "Image(\"figs/diagram.png\", width=600, height=600)"
   ]
  },
  {
   "attachments": {},
   "cell_type": "markdown",
   "id": "c682bc71",
   "metadata": {},
   "source": [
    "We believe that our database design adheres to the Good DB Design, with a one-to-one relationship between 2 tables. We could have deleted `Code` and set `Country` as primary key in `countries` table. That way, we will more clearly see the one-to-one relationship. However, due to time constraint, we decide to leave `Code` as primary key and understand that a row in `countries` can only correspond to a row in `films` and vice versa.\n",
    "\n",
    "This one-to-one relationship is acceptable because the relationship only exists sometimes. There are only 7 countries in `films` table, but there are over 200 countries in `countries` table. \n",
    "\n",
    "Another reason we kept them separate is that we want to perform an INNER JOIN in queries in data_analysis. Keeping the tables separate will make performing an INNER JOIN in queries easier for us!"
   ]
  }
 ],
 "metadata": {
  "kernelspec": {
   "display_name": "Python 3 (ipykernel)",
   "language": "python",
   "name": "python3"
  },
  "language_info": {
   "codemirror_mode": {
    "name": "ipython",
    "version": 3
   },
   "file_extension": ".py",
   "mimetype": "text/x-python",
   "name": "python",
   "nbconvert_exporter": "python",
   "pygments_lexer": "ipython3",
   "version": "3.9.13"
  }
 },
 "nbformat": 4,
 "nbformat_minor": 5
}
